{
 "cells": [
  {
   "cell_type": "code",
   "execution_count": 37,
   "metadata": {},
   "outputs": [],
   "source": [
    "import pandas as pd\n",
    "import numpy as np\n",
    "\n",
    "\n",
    "import matplotlib.pyplot as plt\n",
    "plt.style.use('ggplot')\n",
    "%matplotlib inline  \n",
    "\n",
    "from sklearn import linear_model\n",
    "from sklearn.ensemble import RandomForestRegressor\n",
    "\n",
    "from sklearn import model_selection #import cross_val_score, StratifiedKFold\n",
    "from sklearn.tree import DecisionTreeRegressor, DecisionTreeClassifier, export_graphviz\n",
    "from sklearn import metrics  # mean_squared_error, mean_absolute_error, median_absolute_error, explained_variance_score, r2_score\n",
    "from sklearn.feature_selection import SelectFromModel, RFECV\n",
    "\n",
    "\n"
   ]
  },
  {
   "cell_type": "markdown",
   "metadata": {},
   "source": [
    "### Load Data:"
   ]
  },
  {
   "cell_type": "code",
   "execution_count": 38,
   "metadata": {},
   "outputs": [
    {
     "data": {
      "text/html": [
       "<div>\n",
       "<style scoped>\n",
       "    .dataframe tbody tr th:only-of-type {\n",
       "        vertical-align: middle;\n",
       "    }\n",
       "\n",
       "    .dataframe tbody tr th {\n",
       "        vertical-align: top;\n",
       "    }\n",
       "\n",
       "    .dataframe thead th {\n",
       "        text-align: right;\n",
       "    }\n",
       "</style>\n",
       "<table border=\"1\" class=\"dataframe\">\n",
       "  <thead>\n",
       "    <tr style=\"text-align: right;\">\n",
       "      <th></th>\n",
       "      <th>id</th>\n",
       "      <th>cycle</th>\n",
       "      <th>setting1</th>\n",
       "      <th>setting2</th>\n",
       "      <th>setting3</th>\n",
       "      <th>s1</th>\n",
       "      <th>s2</th>\n",
       "      <th>s3</th>\n",
       "      <th>s4</th>\n",
       "      <th>s5</th>\n",
       "      <th>...</th>\n",
       "      <th>sd15</th>\n",
       "      <th>sd16</th>\n",
       "      <th>sd17</th>\n",
       "      <th>sd18</th>\n",
       "      <th>sd19</th>\n",
       "      <th>sd20</th>\n",
       "      <th>sd21</th>\n",
       "      <th>ttf</th>\n",
       "      <th>label_bnc</th>\n",
       "      <th>label_mcc</th>\n",
       "    </tr>\n",
       "  </thead>\n",
       "  <tbody>\n",
       "    <tr>\n",
       "      <th>0</th>\n",
       "      <td>1</td>\n",
       "      <td>1</td>\n",
       "      <td>-0.0007</td>\n",
       "      <td>-0.0004</td>\n",
       "      <td>100.0</td>\n",
       "      <td>518.67</td>\n",
       "      <td>641.82</td>\n",
       "      <td>1589.70</td>\n",
       "      <td>1400.60</td>\n",
       "      <td>14.62</td>\n",
       "      <td>...</td>\n",
       "      <td>0.000000</td>\n",
       "      <td>0.0</td>\n",
       "      <td>0.000000</td>\n",
       "      <td>0.0</td>\n",
       "      <td>0.0</td>\n",
       "      <td>0.000000</td>\n",
       "      <td>0.000000</td>\n",
       "      <td>191</td>\n",
       "      <td>0</td>\n",
       "      <td>0</td>\n",
       "    </tr>\n",
       "    <tr>\n",
       "      <th>1</th>\n",
       "      <td>1</td>\n",
       "      <td>2</td>\n",
       "      <td>0.0019</td>\n",
       "      <td>-0.0003</td>\n",
       "      <td>100.0</td>\n",
       "      <td>518.67</td>\n",
       "      <td>642.15</td>\n",
       "      <td>1591.82</td>\n",
       "      <td>1403.14</td>\n",
       "      <td>14.62</td>\n",
       "      <td>...</td>\n",
       "      <td>0.008697</td>\n",
       "      <td>0.0</td>\n",
       "      <td>0.000000</td>\n",
       "      <td>0.0</td>\n",
       "      <td>0.0</td>\n",
       "      <td>0.042426</td>\n",
       "      <td>0.003253</td>\n",
       "      <td>190</td>\n",
       "      <td>0</td>\n",
       "      <td>0</td>\n",
       "    </tr>\n",
       "    <tr>\n",
       "      <th>2</th>\n",
       "      <td>1</td>\n",
       "      <td>3</td>\n",
       "      <td>-0.0043</td>\n",
       "      <td>0.0003</td>\n",
       "      <td>100.0</td>\n",
       "      <td>518.67</td>\n",
       "      <td>642.35</td>\n",
       "      <td>1587.99</td>\n",
       "      <td>1404.20</td>\n",
       "      <td>14.62</td>\n",
       "      <td>...</td>\n",
       "      <td>0.007640</td>\n",
       "      <td>0.0</td>\n",
       "      <td>1.154701</td>\n",
       "      <td>0.0</td>\n",
       "      <td>0.0</td>\n",
       "      <td>0.055076</td>\n",
       "      <td>0.044573</td>\n",
       "      <td>189</td>\n",
       "      <td>0</td>\n",
       "      <td>0</td>\n",
       "    </tr>\n",
       "    <tr>\n",
       "      <th>3</th>\n",
       "      <td>1</td>\n",
       "      <td>4</td>\n",
       "      <td>0.0007</td>\n",
       "      <td>0.0000</td>\n",
       "      <td>100.0</td>\n",
       "      <td>518.67</td>\n",
       "      <td>642.35</td>\n",
       "      <td>1582.79</td>\n",
       "      <td>1401.87</td>\n",
       "      <td>14.62</td>\n",
       "      <td>...</td>\n",
       "      <td>0.028117</td>\n",
       "      <td>0.0</td>\n",
       "      <td>1.000000</td>\n",
       "      <td>0.0</td>\n",
       "      <td>0.0</td>\n",
       "      <td>0.076322</td>\n",
       "      <td>0.037977</td>\n",
       "      <td>188</td>\n",
       "      <td>0</td>\n",
       "      <td>0</td>\n",
       "    </tr>\n",
       "    <tr>\n",
       "      <th>4</th>\n",
       "      <td>1</td>\n",
       "      <td>5</td>\n",
       "      <td>-0.0019</td>\n",
       "      <td>-0.0002</td>\n",
       "      <td>100.0</td>\n",
       "      <td>518.67</td>\n",
       "      <td>642.37</td>\n",
       "      <td>1582.85</td>\n",
       "      <td>1406.22</td>\n",
       "      <td>14.62</td>\n",
       "      <td>...</td>\n",
       "      <td>0.025953</td>\n",
       "      <td>0.0</td>\n",
       "      <td>1.095445</td>\n",
       "      <td>0.0</td>\n",
       "      <td>0.0</td>\n",
       "      <td>0.073621</td>\n",
       "      <td>0.033498</td>\n",
       "      <td>187</td>\n",
       "      <td>0</td>\n",
       "      <td>0</td>\n",
       "    </tr>\n",
       "  </tbody>\n",
       "</table>\n",
       "<p>5 rows × 71 columns</p>\n",
       "</div>"
      ],
      "text/plain": [
       "   id  cycle  setting1  setting2  setting3      s1      s2       s3       s4  \\\n",
       "0   1      1   -0.0007   -0.0004     100.0  518.67  641.82  1589.70  1400.60   \n",
       "1   1      2    0.0019   -0.0003     100.0  518.67  642.15  1591.82  1403.14   \n",
       "2   1      3   -0.0043    0.0003     100.0  518.67  642.35  1587.99  1404.20   \n",
       "3   1      4    0.0007    0.0000     100.0  518.67  642.35  1582.79  1401.87   \n",
       "4   1      5   -0.0019   -0.0002     100.0  518.67  642.37  1582.85  1406.22   \n",
       "\n",
       "      s5  ...      sd15  sd16      sd17  sd18  sd19      sd20      sd21  ttf  \\\n",
       "0  14.62  ...  0.000000   0.0  0.000000   0.0   0.0  0.000000  0.000000  191   \n",
       "1  14.62  ...  0.008697   0.0  0.000000   0.0   0.0  0.042426  0.003253  190   \n",
       "2  14.62  ...  0.007640   0.0  1.154701   0.0   0.0  0.055076  0.044573  189   \n",
       "3  14.62  ...  0.028117   0.0  1.000000   0.0   0.0  0.076322  0.037977  188   \n",
       "4  14.62  ...  0.025953   0.0  1.095445   0.0   0.0  0.073621  0.033498  187   \n",
       "\n",
       "   label_bnc  label_mcc  \n",
       "0          0          0  \n",
       "1          0          0  \n",
       "2          0          0  \n",
       "3          0          0  \n",
       "4          0          0  \n",
       "\n",
       "[5 rows x 71 columns]"
      ]
     },
     "execution_count": 38,
     "metadata": {},
     "output_type": "execute_result"
    }
   ],
   "source": [
    "# load training data prepared previously\n",
    "\n",
    "df_train = pd.read_csv('data/train.csv')\n",
    "df_train.head()"
   ]
  },
  {
   "cell_type": "code",
   "execution_count": 39,
   "metadata": {},
   "outputs": [
    {
     "data": {
      "text/html": [
       "<div>\n",
       "<style scoped>\n",
       "    .dataframe tbody tr th:only-of-type {\n",
       "        vertical-align: middle;\n",
       "    }\n",
       "\n",
       "    .dataframe tbody tr th {\n",
       "        vertical-align: top;\n",
       "    }\n",
       "\n",
       "    .dataframe thead th {\n",
       "        text-align: right;\n",
       "    }\n",
       "</style>\n",
       "<table border=\"1\" class=\"dataframe\">\n",
       "  <thead>\n",
       "    <tr style=\"text-align: right;\">\n",
       "      <th></th>\n",
       "      <th>id</th>\n",
       "      <th>cycle</th>\n",
       "      <th>setting1</th>\n",
       "      <th>setting2</th>\n",
       "      <th>setting3</th>\n",
       "      <th>s1</th>\n",
       "      <th>s2</th>\n",
       "      <th>s3</th>\n",
       "      <th>s4</th>\n",
       "      <th>s5</th>\n",
       "      <th>...</th>\n",
       "      <th>sd15</th>\n",
       "      <th>sd16</th>\n",
       "      <th>sd17</th>\n",
       "      <th>sd18</th>\n",
       "      <th>sd19</th>\n",
       "      <th>sd20</th>\n",
       "      <th>sd21</th>\n",
       "      <th>ttf</th>\n",
       "      <th>label_bnc</th>\n",
       "      <th>label_mcc</th>\n",
       "    </tr>\n",
       "  </thead>\n",
       "  <tbody>\n",
       "    <tr>\n",
       "      <th>0</th>\n",
       "      <td>1</td>\n",
       "      <td>31</td>\n",
       "      <td>-0.0006</td>\n",
       "      <td>0.0004</td>\n",
       "      <td>100.0</td>\n",
       "      <td>518.67</td>\n",
       "      <td>642.58</td>\n",
       "      <td>1581.22</td>\n",
       "      <td>1398.91</td>\n",
       "      <td>14.62</td>\n",
       "      <td>...</td>\n",
       "      <td>0.021174</td>\n",
       "      <td>0.0</td>\n",
       "      <td>0.707107</td>\n",
       "      <td>0.0</td>\n",
       "      <td>0.0</td>\n",
       "      <td>0.124016</td>\n",
       "      <td>0.025037</td>\n",
       "      <td>112</td>\n",
       "      <td>0</td>\n",
       "      <td>0</td>\n",
       "    </tr>\n",
       "    <tr>\n",
       "      <th>1</th>\n",
       "      <td>2</td>\n",
       "      <td>49</td>\n",
       "      <td>0.0018</td>\n",
       "      <td>-0.0001</td>\n",
       "      <td>100.0</td>\n",
       "      <td>518.67</td>\n",
       "      <td>642.55</td>\n",
       "      <td>1586.59</td>\n",
       "      <td>1410.83</td>\n",
       "      <td>14.62</td>\n",
       "      <td>...</td>\n",
       "      <td>0.011429</td>\n",
       "      <td>0.0</td>\n",
       "      <td>1.095445</td>\n",
       "      <td>0.0</td>\n",
       "      <td>0.0</td>\n",
       "      <td>0.069785</td>\n",
       "      <td>0.027820</td>\n",
       "      <td>98</td>\n",
       "      <td>0</td>\n",
       "      <td>0</td>\n",
       "    </tr>\n",
       "    <tr>\n",
       "      <th>2</th>\n",
       "      <td>3</td>\n",
       "      <td>126</td>\n",
       "      <td>-0.0016</td>\n",
       "      <td>0.0004</td>\n",
       "      <td>100.0</td>\n",
       "      <td>518.67</td>\n",
       "      <td>642.88</td>\n",
       "      <td>1589.75</td>\n",
       "      <td>1418.89</td>\n",
       "      <td>14.62</td>\n",
       "      <td>...</td>\n",
       "      <td>0.030924</td>\n",
       "      <td>0.0</td>\n",
       "      <td>0.836660</td>\n",
       "      <td>0.0</td>\n",
       "      <td>0.0</td>\n",
       "      <td>0.143631</td>\n",
       "      <td>0.018966</td>\n",
       "      <td>69</td>\n",
       "      <td>0</td>\n",
       "      <td>0</td>\n",
       "    </tr>\n",
       "    <tr>\n",
       "      <th>3</th>\n",
       "      <td>4</td>\n",
       "      <td>106</td>\n",
       "      <td>0.0012</td>\n",
       "      <td>0.0004</td>\n",
       "      <td>100.0</td>\n",
       "      <td>518.67</td>\n",
       "      <td>642.78</td>\n",
       "      <td>1594.53</td>\n",
       "      <td>1406.88</td>\n",
       "      <td>14.62</td>\n",
       "      <td>...</td>\n",
       "      <td>0.021249</td>\n",
       "      <td>0.0</td>\n",
       "      <td>1.341641</td>\n",
       "      <td>0.0</td>\n",
       "      <td>0.0</td>\n",
       "      <td>0.126372</td>\n",
       "      <td>0.021106</td>\n",
       "      <td>82</td>\n",
       "      <td>0</td>\n",
       "      <td>0</td>\n",
       "    </tr>\n",
       "    <tr>\n",
       "      <th>4</th>\n",
       "      <td>5</td>\n",
       "      <td>98</td>\n",
       "      <td>-0.0013</td>\n",
       "      <td>-0.0004</td>\n",
       "      <td>100.0</td>\n",
       "      <td>518.67</td>\n",
       "      <td>642.27</td>\n",
       "      <td>1589.94</td>\n",
       "      <td>1419.36</td>\n",
       "      <td>14.62</td>\n",
       "      <td>...</td>\n",
       "      <td>0.009627</td>\n",
       "      <td>0.0</td>\n",
       "      <td>0.547723</td>\n",
       "      <td>0.0</td>\n",
       "      <td>0.0</td>\n",
       "      <td>0.091924</td>\n",
       "      <td>0.101100</td>\n",
       "      <td>91</td>\n",
       "      <td>0</td>\n",
       "      <td>0</td>\n",
       "    </tr>\n",
       "  </tbody>\n",
       "</table>\n",
       "<p>5 rows × 71 columns</p>\n",
       "</div>"
      ],
      "text/plain": [
       "   id  cycle  setting1  setting2  setting3      s1      s2       s3       s4  \\\n",
       "0   1     31   -0.0006    0.0004     100.0  518.67  642.58  1581.22  1398.91   \n",
       "1   2     49    0.0018   -0.0001     100.0  518.67  642.55  1586.59  1410.83   \n",
       "2   3    126   -0.0016    0.0004     100.0  518.67  642.88  1589.75  1418.89   \n",
       "3   4    106    0.0012    0.0004     100.0  518.67  642.78  1594.53  1406.88   \n",
       "4   5     98   -0.0013   -0.0004     100.0  518.67  642.27  1589.94  1419.36   \n",
       "\n",
       "      s5  ...      sd15  sd16      sd17  sd18  sd19      sd20      sd21  ttf  \\\n",
       "0  14.62  ...  0.021174   0.0  0.707107   0.0   0.0  0.124016  0.025037  112   \n",
       "1  14.62  ...  0.011429   0.0  1.095445   0.0   0.0  0.069785  0.027820   98   \n",
       "2  14.62  ...  0.030924   0.0  0.836660   0.0   0.0  0.143631  0.018966   69   \n",
       "3  14.62  ...  0.021249   0.0  1.341641   0.0   0.0  0.126372  0.021106   82   \n",
       "4  14.62  ...  0.009627   0.0  0.547723   0.0   0.0  0.091924  0.101100   91   \n",
       "\n",
       "   label_bnc  label_mcc  \n",
       "0          0          0  \n",
       "1          0          0  \n",
       "2          0          0  \n",
       "3          0          0  \n",
       "4          0          0  \n",
       "\n",
       "[5 rows x 71 columns]"
      ]
     },
     "execution_count": 39,
     "metadata": {},
     "output_type": "execute_result"
    }
   ],
   "source": [
    "# load test data prepared previously\n",
    "\n",
    "df_test = pd.read_csv('data/test.csv')\n",
    "df_test.head()"
   ]
  },
  {
   "cell_type": "markdown",
   "metadata": {},
   "source": [
    "### Regression Modelling:"
   ]
  },
  {
   "cell_type": "markdown",
   "metadata": {},
   "source": [
    "Segment training and test data into features dataframe and labels series.  \n",
    "\n",
    "To make it easy to train models on different set of features, a variable to hold the set of features required was used to subset the original dataframes"
   ]
  },
  {
   "cell_type": "code",
   "execution_count": 40,
   "metadata": {},
   "outputs": [],
   "source": [
    "#Prepare data for regression model\n",
    "\n",
    "# original features\n",
    "features_orig = ['setting1','setting2','setting3','s1','s2','s3','s4','s5','s6','s7','s8','s9','s10','s11','s12','s13','s14','s15','s16','s17','s18','s19','s20','s21']\n",
    "\n",
    "# original + extracted fetures\n",
    "features_adxf = ['setting1', 'setting2', 'setting3', 's1', 's2', 's3', 's4', 's5', 's6', 's7', 's8', 's9', 's10', 's11', 's12', 's13', 's14', 's15', 's16', 's17', 's18', 's19', 's20', 's21', 'av1', 'av2', 'av3', 'av4', 'av5', 'av6', 'av7', 'av8', 'av9', 'av10', 'av11', 'av12', 'av13', 'av14', 'av15', 'av16', 'av17', 'av18', 'av19', 'av20', 'av21', 'sd1', 'sd2', 'sd3', 'sd4', 'sd5', 'sd6', 'sd7', 'sd8', 'sd9', 'sd10', 'sd11', 'sd12', 'sd13', 'sd14', 'sd15', 'sd16', 'sd17', 'sd18', 'sd19', 'sd20', 'sd21']\n",
    "\n",
    "# features with low or no correlation with regression label\n",
    "features_lowcr = ['setting3', 's1', 's10', 's18','s19','s16','s5', 'setting1', 'setting2']\n",
    "\n",
    "# features that have correlation with regression label\n",
    "features_corrl = ['s2', 's3', 's4', 's6', 's7', 's8', 's9', 's11', 's12', 's13', 's14', 's15', 's17', 's20','s21']\n",
    "\n",
    "# a variable to hold the set of features to experiment with\n",
    "features = features_orig\n",
    "\n",
    "\n",
    "X_train = df_train[features]\n",
    "y_train = df_train['ttf']\n",
    "\n",
    "X_test = df_test[features]\n",
    "y_test = df_test['ttf']"
   ]
  },
  {
   "cell_type": "markdown",
   "metadata": {},
   "source": [
    "Create a helper function to calculate regression metrics"
   ]
  },
  {
   "cell_type": "code",
   "execution_count": 41,
   "metadata": {},
   "outputs": [],
   "source": [
    "def get_regression_metrics(model, actual, predicted):\n",
    "    \n",
    "    \"\"\"Calculate main regression metrics.\n",
    "    \n",
    "    Args:\n",
    "        model (str): The model name identifier\n",
    "        actual (series): Contains the test label values\n",
    "        predicted (series): Contains the predicted values\n",
    "        \n",
    "    Returns:\n",
    "        dataframe: The combined metrics in single dataframe\n",
    "    \n",
    "    \n",
    "    \"\"\"\n",
    "    regr_metrics = {\n",
    "                        'Root Mean Squared Error' : metrics.mean_squared_error(actual, predicted)**0.5,\n",
    "                        'Mean Absolute Error' : metrics.mean_absolute_error(actual, predicted),\n",
    "                        'R^2' : metrics.r2_score(actual, predicted),\n",
    "                        'Explained Variance' : metrics.explained_variance_score(actual, predicted)\n",
    "                   }\n",
    "\n",
    "    #return reg_metrics\n",
    "    df_regr_metrics = pd.DataFrame.from_dict(regr_metrics, orient='index')\n",
    "    df_regr_metrics.columns = [model]\n",
    "    return df_regr_metrics"
   ]
  },
  {
   "cell_type": "markdown",
   "metadata": {},
   "source": [
    "Create a helper function to plot the oefficients weights or feature importance"
   ]
  },
  {
   "cell_type": "code",
   "execution_count": 42,
   "metadata": {},
   "outputs": [],
   "source": [
    "def plot_features_weights(model, weights, feature_names, weights_type='c'):\n",
    "    \n",
    "    \"\"\"Plot regression coefficients weights or feature importance.\n",
    "    \n",
    "    Args:\n",
    "        model (str): The model name identifier\n",
    "        weights (array): Contains the regression coefficients weights or feature importance\n",
    "        feature_names (list): Contains the corresponding features names\n",
    "        weights_type (str): 'c' for 'coefficients weights', otherwise is 'feature importance'\n",
    "        \n",
    "    Returns:\n",
    "        plot of either regression coefficients weights or feature importance\n",
    "        \n",
    "    \n",
    "    \"\"\"\n",
    "    (px, py) = (8, 10) if len(weights) > 30 else (8, 5)\n",
    "    W = pd.DataFrame({'Weights':weights}, feature_names)\n",
    "    W.sort_values(by='Weights', ascending=True).plot(kind='barh', color='r', figsize=(px,py))\n",
    "    label = ' Coefficients' if weights_type =='c' else ' Features Importance'\n",
    "    plt.xlabel(model + label)\n",
    "    plt.gca().legend_ = None\n",
    "    "
   ]
  },
  {
   "cell_type": "markdown",
   "metadata": {},
   "source": [
    "Create a helper function to plot the regression residuals"
   ]
  },
  {
   "cell_type": "code",
   "execution_count": 43,
   "metadata": {},
   "outputs": [],
   "source": [
    "def plot_residual(model, y_train, y_train_pred, y_test, y_test_pred):\n",
    "    \n",
    "    \"\"\"Print the regression residuals.\n",
    "    \n",
    "    Args:\n",
    "        model (str): The model name identifier\n",
    "        y_train (series): The training labels\n",
    "        y_train_pred (series): Predictions on training data\n",
    "        y_test (series): The test labels\n",
    "        y_test_pred (series): Predictions on test data\n",
    "        \n",
    "    Returns:\n",
    "        Plot of regression residuals\n",
    "    \n",
    "    \"\"\"\n",
    "    \n",
    "    plt.scatter(y_train_pred, y_train_pred - y_train, c='blue', marker='o', label='Training data')\n",
    "    plt.scatter(y_test_pred, y_test_pred - y_test, c='lightgreen', marker='s', label='Test data')\n",
    "    plt.xlabel('Predicted Values')\n",
    "    plt.ylabel('Residuals')\n",
    "    plt.legend(loc='upper left')\n",
    "    plt.hlines(y=0, xmin=-50, xmax=400, color='red', lw=2)\n",
    "    plt.title(model + ' Residuals')\n",
    "    plt.show()\n",
    "    \n",
    "    "
   ]
  },
  {
   "cell_type": "markdown",
   "metadata": {},
   "source": [
    "Using the above functions let us model and evaluate some regression algorithms"
   ]
  },
  {
   "cell_type": "code",
   "execution_count": 44,
   "metadata": {},
   "outputs": [
    {
     "name": "stdout",
     "output_type": "stream",
     "text": [
      "R^2 training: 0.580, R^2 test: 0.405\n"
     ]
    },
    {
     "data": {
      "text/html": [
       "<div>\n",
       "<style scoped>\n",
       "    .dataframe tbody tr th:only-of-type {\n",
       "        vertical-align: middle;\n",
       "    }\n",
       "\n",
       "    .dataframe tbody tr th {\n",
       "        vertical-align: top;\n",
       "    }\n",
       "\n",
       "    .dataframe thead th {\n",
       "        text-align: right;\n",
       "    }\n",
       "</style>\n",
       "<table border=\"1\" class=\"dataframe\">\n",
       "  <thead>\n",
       "    <tr style=\"text-align: right;\">\n",
       "      <th></th>\n",
       "      <th>Linear Regression</th>\n",
       "    </tr>\n",
       "  </thead>\n",
       "  <tbody>\n",
       "    <tr>\n",
       "      <th>Root Mean Squared Error</th>\n",
       "      <td>32.041095</td>\n",
       "    </tr>\n",
       "    <tr>\n",
       "      <th>Mean Absolute Error</th>\n",
       "      <td>25.591780</td>\n",
       "    </tr>\n",
       "    <tr>\n",
       "      <th>R^2</th>\n",
       "      <td>0.405495</td>\n",
       "    </tr>\n",
       "    <tr>\n",
       "      <th>Explained Variance</th>\n",
       "      <td>0.665297</td>\n",
       "    </tr>\n",
       "  </tbody>\n",
       "</table>\n",
       "</div>"
      ],
      "text/plain": [
       "                         Linear Regression\n",
       "Root Mean Squared Error          32.041095\n",
       "Mean Absolute Error              25.591780\n",
       "R^2                               0.405495\n",
       "Explained Variance                0.665297"
      ]
     },
     "execution_count": 44,
     "metadata": {},
     "output_type": "execute_result"
    }
   ],
   "source": [
    "#try linear regression\n",
    "\n",
    "linreg = linear_model.LinearRegression()\n",
    "linreg.fit(X_train, y_train)\n",
    "\n",
    "y_test_predict = linreg.predict(X_test)\n",
    "y_train_predict = linreg.predict(X_train)\n",
    "\n",
    "print('R^2 training: %.3f, R^2 test: %.3f' % (\n",
    "      (metrics.r2_score(y_train, y_train_predict)), \n",
    "      (metrics.r2_score(y_test, y_test_predict))))\n",
    "\n",
    "linreg_metrics = get_regression_metrics('Linear Regression', y_test, y_test_predict)\n",
    "linreg_metrics\n"
   ]
  },
  {
   "cell_type": "code",
   "execution_count": 45,
   "metadata": {},
   "outputs": [
    {
     "data": {
      "image/png": "[encoded data removed]",
      "text/plain": [
       "<Figure size 576x360 with 1 Axes>"
      ]
     },
     "metadata": {
      "needs_background": "light"
     },
     "output_type": "display_data"
    }
   ],
   "source": [
    "plot_features_weights('Linear Regression', linreg.coef_, X_train.columns, 'c')"
   ]
  },
  {
   "cell_type": "code",
   "execution_count": 46,
   "metadata": {},
   "outputs": [
    {
     "data": {
      "image/png": "[encoded data removed]",
      "text/plain": [
       "<Figure size 432x288 with 1 Axes>"
      ]
     },
     "metadata": {
      "needs_background": "light"
     },
     "output_type": "display_data"
    }
   ],
   "source": [
    "plot_residual('Linear Regression', y_train_predict, y_train, y_test_predict, y_test)"
   ]
  },
  {
   "cell_type": "code",
   "execution_count": 47,
   "metadata": {},
   "outputs": [
    {
     "name": "stdout",
     "output_type": "stream",
     "text": [
      "R^2 training: 0.579, R^2 test: 0.408\n"
     ]
    },
    {
     "data": {
      "text/html": [
       "<div>\n",
       "<style scoped>\n",
       "    .dataframe tbody tr th:only-of-type {\n",
       "        vertical-align: middle;\n",
       "    }\n",
       "\n",
       "    .dataframe tbody tr th {\n",
       "        vertical-align: top;\n",
       "    }\n",
       "\n",
       "    .dataframe thead th {\n",
       "        text-align: right;\n",
       "    }\n",
       "</style>\n",
       "<table border=\"1\" class=\"dataframe\">\n",
       "  <thead>\n",
       "    <tr style=\"text-align: right;\">\n",
       "      <th></th>\n",
       "      <th>LASSO</th>\n",
       "    </tr>\n",
       "  </thead>\n",
       "  <tbody>\n",
       "    <tr>\n",
       "      <th>Root Mean Squared Error</th>\n",
       "      <td>31.966099</td>\n",
       "    </tr>\n",
       "    <tr>\n",
       "      <th>Mean Absolute Error</th>\n",
       "      <td>25.551808</td>\n",
       "    </tr>\n",
       "    <tr>\n",
       "      <th>R^2</th>\n",
       "      <td>0.408275</td>\n",
       "    </tr>\n",
       "    <tr>\n",
       "      <th>Explained Variance</th>\n",
       "      <td>0.668206</td>\n",
       "    </tr>\n",
       "  </tbody>\n",
       "</table>\n",
       "</div>"
      ],
      "text/plain": [
       "                             LASSO\n",
       "Root Mean Squared Error  31.966099\n",
       "Mean Absolute Error      25.551808\n",
       "R^2                       0.408275\n",
       "Explained Variance        0.668206"
      ]
     },
     "execution_count": 47,
     "metadata": {},
     "output_type": "execute_result"
    }
   ],
   "source": [
    "#try LASSO\n",
    "\n",
    "lasso = linear_model.Lasso(alpha=0.001)\n",
    "lasso.fit(X_train, y_train)\n",
    "\n",
    "y_test_predict = lasso.predict(X_test)\n",
    "y_train_predict = lasso.predict(X_train)\n",
    "\n",
    "print('R^2 training: %.3f, R^2 test: %.3f' % (\n",
    "      (metrics.r2_score(y_train, y_train_predict)), \n",
    "      (metrics.r2_score(y_test, y_test_predict))))\n",
    "\n",
    "lasso_metrics = get_regression_metrics('LASSO', y_test, y_test_predict)\n",
    "\n",
    "lasso_metrics\n"
   ]
  },
  {
   "cell_type": "code",
   "execution_count": 48,
   "metadata": {},
   "outputs": [
    {
     "data": {
      "image/png": "[encoded data removed]",
      "text/plain": [
       "<Figure size 576x360 with 1 Axes>"
      ]
     },
     "metadata": {
      "needs_background": "light"
     },
     "output_type": "display_data"
    }
   ],
   "source": [
    "plot_features_weights('LASSO', lasso.coef_, X_train.columns, 'c')"
   ]
  },
  {
   "cell_type": "code",
   "execution_count": 49,
   "metadata": {},
   "outputs": [
    {
     "data": {
      "image/png": "[encoded data removed]",
      "text/plain": [
       "<Figure size 432x288 with 1 Axes>"
      ]
     },
     "metadata": {
      "needs_background": "light"
     },
     "output_type": "display_data"
    }
   ],
   "source": [
    "plot_residual('LASSO', y_train_predict, y_train, y_test_predict, y_test)"
   ]
  },
  {
   "cell_type": "code",
   "execution_count": 50,
   "metadata": {},
   "outputs": [
    {
     "name": "stdout",
     "output_type": "stream",
     "text": [
      "R^2 training: 0.580, R^2 test: 0.408\n"
     ]
    },
    {
     "data": {
      "text/html": [
       "<div>\n",
       "<style scoped>\n",
       "    .dataframe tbody tr th:only-of-type {\n",
       "        vertical-align: middle;\n",
       "    }\n",
       "\n",
       "    .dataframe tbody tr th {\n",
       "        vertical-align: top;\n",
       "    }\n",
       "\n",
       "    .dataframe thead th {\n",
       "        text-align: right;\n",
       "    }\n",
       "</style>\n",
       "<table border=\"1\" class=\"dataframe\">\n",
       "  <thead>\n",
       "    <tr style=\"text-align: right;\">\n",
       "      <th></th>\n",
       "      <th>Ridge Regression</th>\n",
       "    </tr>\n",
       "  </thead>\n",
       "  <tbody>\n",
       "    <tr>\n",
       "      <th>Root Mean Squared Error</th>\n",
       "      <td>31.965740</td>\n",
       "    </tr>\n",
       "    <tr>\n",
       "      <th>Mean Absolute Error</th>\n",
       "      <td>25.544620</td>\n",
       "    </tr>\n",
       "    <tr>\n",
       "      <th>R^2</th>\n",
       "      <td>0.408289</td>\n",
       "    </tr>\n",
       "    <tr>\n",
       "      <th>Explained Variance</th>\n",
       "      <td>0.667607</td>\n",
       "    </tr>\n",
       "  </tbody>\n",
       "</table>\n",
       "</div>"
      ],
      "text/plain": [
       "                         Ridge Regression\n",
       "Root Mean Squared Error         31.965740\n",
       "Mean Absolute Error             25.544620\n",
       "R^2                              0.408289\n",
       "Explained Variance               0.667607"
      ]
     },
     "execution_count": 50,
     "metadata": {},
     "output_type": "execute_result"
    }
   ],
   "source": [
    "#try ridge\n",
    "\n",
    "rdg = linear_model.Ridge(alpha=0.01)\n",
    "rdg.fit(X_train, y_train)\n",
    "\n",
    "y_test_predict = rdg.predict(X_test)\n",
    "y_train_predict = rdg.predict(X_train)\n",
    "\n",
    "print('R^2 training: %.3f, R^2 test: %.3f' % (\n",
    "      (metrics.r2_score(y_train, y_train_predict)), \n",
    "      (metrics.r2_score(y_test, y_test_predict))))\n",
    "\n",
    "rdg_metrics = get_regression_metrics('Ridge Regression', y_test, y_test_predict)\n",
    "rdg_metrics"
   ]
  },
  {
   "cell_type": "code",
   "execution_count": 51,
   "metadata": {},
   "outputs": [
    {
     "data": {
      "image/png": "[encoded data removed]",
      "text/plain": [
       "<Figure size 576x360 with 1 Axes>"
      ]
     },
     "metadata": {
      "needs_background": "light"
     },
     "output_type": "display_data"
    }
   ],
   "source": [
    "plot_features_weights('Ridge Regression', rdg.coef_, X_train.columns, 'c')"
   ]
  },
  {
   "cell_type": "code",
   "execution_count": 52,
   "metadata": {},
   "outputs": [
    {
     "data": {
      "image/png": "[encoded data removed]",
      "text/plain": [
       "<Figure size 432x288 with 1 Axes>"
      ]
     },
     "metadata": {
      "needs_background": "light"
     },
     "output_type": "display_data"
    }
   ],
   "source": [
    "plot_residual('Ridge Regression', y_train_predict, y_train, y_test_predict, y_test)"
   ]
  },
  {
   "cell_type": "code",
   "execution_count": 53,
   "metadata": {},
   "outputs": [
    {
     "name": "stdout",
     "output_type": "stream",
     "text": [
      "R^2 training: 0.627, R^2 test: 0.431\n"
     ]
    },
    {
     "data": {
      "text/html": [
       "<div>\n",
       "<style scoped>\n",
       "    .dataframe tbody tr th:only-of-type {\n",
       "        vertical-align: middle;\n",
       "    }\n",
       "\n",
       "    .dataframe tbody tr th {\n",
       "        vertical-align: top;\n",
       "    }\n",
       "\n",
       "    .dataframe thead th {\n",
       "        text-align: right;\n",
       "    }\n",
       "</style>\n",
       "<table border=\"1\" class=\"dataframe\">\n",
       "  <thead>\n",
       "    <tr style=\"text-align: right;\">\n",
       "      <th></th>\n",
       "      <th>Polynomial Regression</th>\n",
       "    </tr>\n",
       "  </thead>\n",
       "  <tbody>\n",
       "    <tr>\n",
       "      <th>Root Mean Squared Error</th>\n",
       "      <td>31.350316</td>\n",
       "    </tr>\n",
       "    <tr>\n",
       "      <th>Mean Absolute Error</th>\n",
       "      <td>23.762969</td>\n",
       "    </tr>\n",
       "    <tr>\n",
       "      <th>R^2</th>\n",
       "      <td>0.430853</td>\n",
       "    </tr>\n",
       "    <tr>\n",
       "      <th>Explained Variance</th>\n",
       "      <td>0.638423</td>\n",
       "    </tr>\n",
       "  </tbody>\n",
       "</table>\n",
       "</div>"
      ],
      "text/plain": [
       "                         Polynomial Regression\n",
       "Root Mean Squared Error              31.350316\n",
       "Mean Absolute Error                  23.762969\n",
       "R^2                                   0.430853\n",
       "Explained Variance                    0.638423"
      ]
     },
     "execution_count": 53,
     "metadata": {},
     "output_type": "execute_result"
    }
   ],
   "source": [
    "#try Polynomial Regression\n",
    "\n",
    "from sklearn.preprocessing import PolynomialFeatures\n",
    "\n",
    "poly = PolynomialFeatures(degree=2)\n",
    "\n",
    "X_train_poly = poly.fit_transform(X_train)\n",
    "X_test_poly = poly.fit_transform(X_test)\n",
    "\n",
    "\n",
    "polyreg = linear_model.LinearRegression()\n",
    "polyreg.fit(X_train_poly, y_train)\n",
    "\n",
    "y_test_predict = polyreg.predict(X_test_poly)\n",
    "y_train_predict = polyreg.predict(X_train_poly)\n",
    "\n",
    "print('R^2 training: %.3f, R^2 test: %.3f' % (\n",
    "      (metrics.r2_score(y_train, y_train_predict)), \n",
    "      (metrics.r2_score(y_test, y_test_predict))))\n",
    "\n",
    "polyreg_metrics = get_regression_metrics('Polynomial Regression', y_test, y_test_predict)\n",
    "polyreg_metrics\n",
    "\n"
   ]
  },
  {
   "cell_type": "code",
   "execution_count": 54,
   "metadata": {},
   "outputs": [
    {
     "data": {
      "image/png": "[encoded data removed]",
      "text/plain": [
       "<Figure size 432x288 with 1 Axes>"
      ]
     },
     "metadata": {
      "needs_background": "light"
     },
     "output_type": "display_data"
    }
   ],
   "source": [
    "plot_residual('Polynomial Regression', y_train_predict, y_train, y_test_predict, y_test)"
   ]
  },
  {
   "cell_type": "markdown",
   "metadata": {},
   "source": [
    "Polynomial Regression has scored better than linear models"
   ]
  },
  {
   "cell_type": "code",
   "execution_count": 55,
   "metadata": {},
   "outputs": [
    {
     "name": "stdout",
     "output_type": "stream",
     "text": [
      "R^2 training: 0.625, R^2 test: 0.403\n"
     ]
    },
    {
     "data": {
      "text/html": [
       "<div>\n",
       "<style scoped>\n",
       "    .dataframe tbody tr th:only-of-type {\n",
       "        vertical-align: middle;\n",
       "    }\n",
       "\n",
       "    .dataframe tbody tr th {\n",
       "        vertical-align: top;\n",
       "    }\n",
       "\n",
       "    .dataframe thead th {\n",
       "        text-align: right;\n",
       "    }\n",
       "</style>\n",
       "<table border=\"1\" class=\"dataframe\">\n",
       "  <thead>\n",
       "    <tr style=\"text-align: right;\">\n",
       "      <th></th>\n",
       "      <th>Decision Tree Regression</th>\n",
       "    </tr>\n",
       "  </thead>\n",
       "  <tbody>\n",
       "    <tr>\n",
       "      <th>Root Mean Squared Error</th>\n",
       "      <td>32.095349</td>\n",
       "    </tr>\n",
       "    <tr>\n",
       "      <th>Mean Absolute Error</th>\n",
       "      <td>24.319068</td>\n",
       "    </tr>\n",
       "    <tr>\n",
       "      <th>R^2</th>\n",
       "      <td>0.403480</td>\n",
       "    </tr>\n",
       "    <tr>\n",
       "      <th>Explained Variance</th>\n",
       "      <td>0.632767</td>\n",
       "    </tr>\n",
       "  </tbody>\n",
       "</table>\n",
       "</div>"
      ],
      "text/plain": [
       "                         Decision Tree Regression\n",
       "Root Mean Squared Error                 32.095349\n",
       "Mean Absolute Error                     24.319068\n",
       "R^2                                      0.403480\n",
       "Explained Variance                       0.632767"
      ]
     },
     "execution_count": 55,
     "metadata": {},
     "output_type": "execute_result"
    }
   ],
   "source": [
    "#try Decision Tree regressor\n",
    "\n",
    "#dtrg = DecisionTreeRegressor(max_depth=8, max_features=5, random_state=123) # selected features\n",
    "dtrg = DecisionTreeRegressor(max_depth=7, random_state=123)\n",
    "dtrg.fit(X_train, y_train)\n",
    "\n",
    "y_test_predict = dtrg.predict(X_test)\n",
    "y_train_predict = dtrg.predict(X_train)\n",
    "\n",
    "print('R^2 training: %.3f, R^2 test: %.3f' % (\n",
    "      (metrics.r2_score(y_train, y_train_predict)), \n",
    "      (metrics.r2_score(y_test, y_test_predict))))\n",
    "\n",
    "dtrg_metrics = get_regression_metrics('Decision Tree Regression', y_test, y_test_predict)\n",
    "dtrg_metrics"
   ]
  },
  {
   "cell_type": "code",
   "execution_count": 56,
   "metadata": {},
   "outputs": [
    {
     "data": {
      "image/png": "[encoded data removed]",
      "text/plain": [
       "<Figure size 576x360 with 1 Axes>"
      ]
     },
     "metadata": {
      "needs_background": "light"
     },
     "output_type": "display_data"
    }
   ],
   "source": [
    "plot_features_weights('Decision Tree Regressor', dtrg.feature_importances_, X_train.columns, 't' )"
   ]
  },
  {
   "cell_type": "code",
   "execution_count": 57,
   "metadata": {},
   "outputs": [
    {
     "data": {
      "image/png": "[encoded data removed]",
      "text/plain": [
       "<Figure size 432x288 with 1 Axes>"
      ]
     },
     "metadata": {
      "needs_background": "light"
     },
     "output_type": "display_data"
    }
   ],
   "source": [
    "plot_residual('Decision Tree Regression', y_train_predict, y_train, y_test_predict, y_test)"
   ]
  },
  {
   "cell_type": "markdown",
   "metadata": {},
   "source": [
    "Let us try to visualize the tree constucted by the Decision Tree regressor"
   ]
  },
  {
   "cell_type": "code",
   "execution_count": 58,
   "metadata": {
    "scrolled": true
   },
   "outputs": [],
   "source": [
    "# view the constructed decision tree\n",
    "\n",
    "import graphviz\n",
    "export_graphviz(dtrg, out_file=\"fig/mytree.jpeg\", feature_names=X_train.columns)\n",
    "with open(\"fig/mytree.jpeg\") as f:\n",
    "    dot_graph = f.read()\n",
    "#graphviz.Source(dot_graph)"
   ]
  },
  {
   "cell_type": "markdown",
   "metadata": {},
   "source": [
    "Let us try some feature selection on decsion tree, for example Recursive Feature Elimination (RFE)"
   ]
  },
  {
   "cell_type": "code",
   "execution_count": 60,
   "metadata": {},
   "outputs": [
    {
     "name": "stdout",
     "output_type": "stream",
     "text": [
      "Optimal number of features : 5\n",
      "The selected features are: ['s4', 's7', 's9', 's11', 's12']\n"
     ]
    },
    {
     "data": {
      "image/png": "[encoded data removed]",
      "text/plain": [
       "<Figure size 432x288 with 1 Axes>"
      ]
     },
     "metadata": {
      "needs_background": "light"
     },
     "output_type": "display_data"
    }
   ],
   "source": [
    "# try recursive feature elimination\n",
    "\n",
    "kfold = model_selection.KFold(n_splits=5, random_state=10, shuffle=True)\n",
    "\n",
    "dtrg = DecisionTreeRegressor(max_depth=7)\n",
    "\n",
    "rfecv = RFECV(estimator=dtrg, step=1, cv=kfold, scoring='neg_mean_squared_error', n_jobs=-1)\n",
    "rfecv.fit(X_train, y_train)\n",
    "\n",
    "print(\"Optimal number of features : %d\" % rfecv.n_features_)\n",
    "\n",
    "sel_features = [f for f,s in zip(X_train.columns, rfecv.support_) if s]\n",
    "print('The selected features are: {}'.format(sel_features))\n",
    "\n",
    "# Plot number of features VS. cross-validation scores\n",
    "plt.figure()\n",
    "plt.xlabel(\"Number of features selected (RFE)\")\n",
    "plt.ylabel(\"Cross validation score (mse)\")\n",
    "plt.plot(range(1, len(rfecv.grid_scores_) + 1), rfecv.grid_scores_)\n",
    "plt.show()"
   ]
  },
  {
   "cell_type": "markdown",
   "metadata": {},
   "source": [
    "Test the same model with the selected features"
   ]
  },
  {
   "cell_type": "code",
   "execution_count": 61,
   "metadata": {},
   "outputs": [
    {
     "name": "stdout",
     "output_type": "stream",
     "text": [
      "(20631, 24)\n"
     ]
    },
    {
     "data": {
      "text/html": [
       "<div>\n",
       "<style scoped>\n",
       "    .dataframe tbody tr th:only-of-type {\n",
       "        vertical-align: middle;\n",
       "    }\n",
       "\n",
       "    .dataframe tbody tr th {\n",
       "        vertical-align: top;\n",
       "    }\n",
       "\n",
       "    .dataframe thead th {\n",
       "        text-align: right;\n",
       "    }\n",
       "</style>\n",
       "<table border=\"1\" class=\"dataframe\">\n",
       "  <thead>\n",
       "    <tr style=\"text-align: right;\">\n",
       "      <th></th>\n",
       "      <th>Decision Tree: Selected Features</th>\n",
       "      <th>Decision Tree Regression</th>\n",
       "    </tr>\n",
       "  </thead>\n",
       "  <tbody>\n",
       "    <tr>\n",
       "      <th>Root Mean Squared Error</th>\n",
       "      <td>34.212392</td>\n",
       "      <td>32.095349</td>\n",
       "    </tr>\n",
       "    <tr>\n",
       "      <th>Mean Absolute Error</th>\n",
       "      <td>25.866117</td>\n",
       "      <td>24.319068</td>\n",
       "    </tr>\n",
       "    <tr>\n",
       "      <th>R^2</th>\n",
       "      <td>0.322191</td>\n",
       "      <td>0.403480</td>\n",
       "    </tr>\n",
       "    <tr>\n",
       "      <th>Explained Variance</th>\n",
       "      <td>0.593892</td>\n",
       "      <td>0.632767</td>\n",
       "    </tr>\n",
       "  </tbody>\n",
       "</table>\n",
       "</div>"
      ],
      "text/plain": [
       "                         Decision Tree: Selected Features  \\\n",
       "Root Mean Squared Error                         34.212392   \n",
       "Mean Absolute Error                             25.866117   \n",
       "R^2                                              0.322191   \n",
       "Explained Variance                               0.593892   \n",
       "\n",
       "                         Decision Tree Regression  \n",
       "Root Mean Squared Error                 32.095349  \n",
       "Mean Absolute Error                     24.319068  \n",
       "R^2                                      0.403480  \n",
       "Explained Variance                       0.632767  "
      ]
     },
     "execution_count": 61,
     "metadata": {},
     "output_type": "execute_result"
    }
   ],
   "source": [
    "# Decition Tree with selected features\n",
    "\n",
    "#trnsform train and test data\n",
    "X_train_trn = rfecv.transform(X_train)\n",
    "X_test_trn = rfecv.transform(X_test)\n",
    "\n",
    "print(X_train.shape)\n",
    "\n",
    "dtrg = DecisionTreeRegressor(max_depth=7)\n",
    "\n",
    "dtrg.fit(X_train_trn, y_train)\n",
    "\n",
    "y_test_predict = dtrg.predict(X_test_trn)\n",
    "\n",
    "dtrg_fs_metrics = get_regression_metrics('Decision Tree: Selected Features', y_test, y_test_predict)\n",
    "\n",
    "#combine decision tree results: All features and selected features\n",
    "dtr_metrics = pd.concat([dtrg_fs_metrics,dtrg_metrics], axis=1)\n",
    "\n",
    "dtr_metrics"
   ]
  },
  {
   "cell_type": "markdown",
   "metadata": {},
   "source": [
    "Model performance using only 5 top important features is comparable to using all 24 features.  \n",
    "\n",
    "What is % importance of these 5 features?"
   ]
  },
  {
   "cell_type": "code",
   "execution_count": 62,
   "metadata": {},
   "outputs": [
    {
     "data": {
      "text/html": [
       "<div>\n",
       "<style scoped>\n",
       "    .dataframe tbody tr th:only-of-type {\n",
       "        vertical-align: middle;\n",
       "    }\n",
       "\n",
       "    .dataframe tbody tr th {\n",
       "        vertical-align: top;\n",
       "    }\n",
       "\n",
       "    .dataframe thead th {\n",
       "        text-align: right;\n",
       "    }\n",
       "</style>\n",
       "<table border=\"1\" class=\"dataframe\">\n",
       "  <thead>\n",
       "    <tr style=\"text-align: right;\">\n",
       "      <th></th>\n",
       "      <th>Importance</th>\n",
       "    </tr>\n",
       "  </thead>\n",
       "  <tbody>\n",
       "    <tr>\n",
       "      <th>s11</th>\n",
       "      <td>0.682967</td>\n",
       "    </tr>\n",
       "    <tr>\n",
       "      <th>s9</th>\n",
       "      <td>0.168857</td>\n",
       "    </tr>\n",
       "    <tr>\n",
       "      <th>s4</th>\n",
       "      <td>0.091236</td>\n",
       "    </tr>\n",
       "    <tr>\n",
       "      <th>s12</th>\n",
       "      <td>0.033993</td>\n",
       "    </tr>\n",
       "    <tr>\n",
       "      <th>s7</th>\n",
       "      <td>0.022948</td>\n",
       "    </tr>\n",
       "  </tbody>\n",
       "</table>\n",
       "</div>"
      ],
      "text/plain": [
       "     Importance\n",
       "s11    0.682967\n",
       "s9     0.168857\n",
       "s4     0.091236\n",
       "s12    0.033993\n",
       "s7     0.022948"
      ]
     },
     "execution_count": 62,
     "metadata": {},
     "output_type": "execute_result"
    }
   ],
   "source": [
    "feats = {} # a dict to hold feature_name: feature_importance\n",
    "for feature, importance in zip(sel_features, dtrg.feature_importances_):\n",
    "    feats[feature] = importance #add the name/value pair \n",
    "\n",
    "importances = pd.DataFrame.from_dict(feats, orient='index').rename(columns={0: 'Importance'})\n",
    "\n",
    "importances.sort_values(by='Importance', ascending=False)"
   ]
  },
  {
   "cell_type": "code",
   "execution_count": 63,
   "metadata": {},
   "outputs": [
    {
     "name": "stdout",
     "output_type": "stream",
     "text": [
      "R^2 training: 0.594, R^2 test: 0.525\n"
     ]
    },
    {
     "data": {
      "text/html": [
       "<div>\n",
       "<style scoped>\n",
       "    .dataframe tbody tr th:only-of-type {\n",
       "        vertical-align: middle;\n",
       "    }\n",
       "\n",
       "    .dataframe tbody tr th {\n",
       "        vertical-align: top;\n",
       "    }\n",
       "\n",
       "    .dataframe thead th {\n",
       "        text-align: right;\n",
       "    }\n",
       "</style>\n",
       "<table border=\"1\" class=\"dataframe\">\n",
       "  <thead>\n",
       "    <tr style=\"text-align: right;\">\n",
       "      <th></th>\n",
       "      <th>Random Forest Regression</th>\n",
       "    </tr>\n",
       "  </thead>\n",
       "  <tbody>\n",
       "    <tr>\n",
       "      <th>Root Mean Squared Error</th>\n",
       "      <td>28.634253</td>\n",
       "    </tr>\n",
       "    <tr>\n",
       "      <th>Mean Absolute Error</th>\n",
       "      <td>23.167130</td>\n",
       "    </tr>\n",
       "    <tr>\n",
       "      <th>R^2</th>\n",
       "      <td>0.525198</td>\n",
       "    </tr>\n",
       "    <tr>\n",
       "      <th>Explained Variance</th>\n",
       "      <td>0.767320</td>\n",
       "    </tr>\n",
       "  </tbody>\n",
       "</table>\n",
       "</div>"
      ],
      "text/plain": [
       "                         Random Forest Regression\n",
       "Root Mean Squared Error                 28.634253\n",
       "Mean Absolute Error                     23.167130\n",
       "R^2                                      0.525198\n",
       "Explained Variance                       0.767320"
      ]
     },
     "execution_count": 63,
     "metadata": {},
     "output_type": "execute_result"
    }
   ],
   "source": [
    "#try Random Forest\n",
    "\n",
    "#rf = RandomForestRegressor(n_estimators=100, max_features=2, max_depth=4, n_jobs=-1, random_state=1) # selected features\n",
    "rf = RandomForestRegressor(n_estimators=100, max_features=3, max_depth=4, n_jobs=-1, random_state=1) # original features\n",
    "#rf = RandomForestRegressor(n_estimators=100, max_features=3, max_depth=7, n_jobs=-1, random_state=1) # orig + extrcted \n",
    "\n",
    "rf.fit(X_train, y_train)\n",
    "\n",
    "y_test_predict = rf.predict(X_test)\n",
    "y_train_predict = rf.predict(X_train)\n",
    "\n",
    "print('R^2 training: %.3f, R^2 test: %.3f' % (\n",
    "      (metrics.r2_score(y_train, y_train_predict)), \n",
    "      (metrics.r2_score(y_test, y_test_predict))))\n",
    "\n",
    "rf_metrics = get_regression_metrics('Random Forest Regression', y_test, y_test_predict)\n",
    "rf_metrics"
   ]
  },
  {
   "cell_type": "code",
   "execution_count": 64,
   "metadata": {},
   "outputs": [
    {
     "data": {
      "image/png": "[encoded data removed]",
      "text/plain": [
       "<Figure size 576x360 with 1 Axes>"
      ]
     },
     "metadata": {
      "needs_background": "light"
     },
     "output_type": "display_data"
    }
   ],
   "source": [
    "plot_features_weights('Random Forest Regressor', rf.feature_importances_, X_train.columns, 't' )"
   ]
  },
  {
   "cell_type": "code",
   "execution_count": 65,
   "metadata": {},
   "outputs": [
    {
     "data": {
      "image/png": "[encoded data removed]",
      "text/plain": [
       "<Figure size 432x288 with 1 Axes>"
      ]
     },
     "metadata": {
      "needs_background": "light"
     },
     "output_type": "display_data"
    }
   ],
   "source": [
    "plot_residual('Random Forest Regression', y_train_predict, y_train, y_test_predict, y_test)"
   ]
  },
  {
   "cell_type": "markdown",
   "metadata": {},
   "source": [
    "regression residuals were not randomly spread across the average value of the residuals. This could be improved by fixing the data (e.g. outliers, resampling) or model parameters tuning."
   ]
  },
  {
   "cell_type": "markdown",
   "metadata": {},
   "source": [
    "Let us view predicted values"
   ]
  },
  {
   "cell_type": "code",
   "execution_count": 66,
   "metadata": {
    "scrolled": false
   },
   "outputs": [
    {
     "data": {
      "text/html": [
       "<div>\n",
       "<style scoped>\n",
       "    .dataframe tbody tr th:only-of-type {\n",
       "        vertical-align: middle;\n",
       "    }\n",
       "\n",
       "    .dataframe tbody tr th {\n",
       "        vertical-align: top;\n",
       "    }\n",
       "\n",
       "    .dataframe thead th {\n",
       "        text-align: right;\n",
       "    }\n",
       "</style>\n",
       "<table border=\"1\" class=\"dataframe\">\n",
       "  <thead>\n",
       "    <tr style=\"text-align: right;\">\n",
       "      <th></th>\n",
       "      <th>0</th>\n",
       "      <th>1</th>\n",
       "      <th>2</th>\n",
       "      <th>3</th>\n",
       "      <th>4</th>\n",
       "      <th>5</th>\n",
       "      <th>6</th>\n",
       "      <th>7</th>\n",
       "      <th>8</th>\n",
       "      <th>9</th>\n",
       "      <th>...</th>\n",
       "      <th>90</th>\n",
       "      <th>91</th>\n",
       "      <th>92</th>\n",
       "      <th>93</th>\n",
       "      <th>94</th>\n",
       "      <th>95</th>\n",
       "      <th>96</th>\n",
       "      <th>97</th>\n",
       "      <th>98</th>\n",
       "      <th>99</th>\n",
       "    </tr>\n",
       "  </thead>\n",
       "  <tbody>\n",
       "    <tr>\n",
       "      <th>Actual</th>\n",
       "      <td>112.000000</td>\n",
       "      <td>98.000000</td>\n",
       "      <td>69.000000</td>\n",
       "      <td>82.000000</td>\n",
       "      <td>91.00000</td>\n",
       "      <td>93.000000</td>\n",
       "      <td>91.000000</td>\n",
       "      <td>95.000000</td>\n",
       "      <td>111.00000</td>\n",
       "      <td>96.000000</td>\n",
       "      <td>...</td>\n",
       "      <td>38.000000</td>\n",
       "      <td>20.000000</td>\n",
       "      <td>85.00000</td>\n",
       "      <td>55.000000</td>\n",
       "      <td>128.000000</td>\n",
       "      <td>137.000000</td>\n",
       "      <td>82.000000</td>\n",
       "      <td>59.000000</td>\n",
       "      <td>117.000000</td>\n",
       "      <td>20.00000</td>\n",
       "    </tr>\n",
       "    <tr>\n",
       "      <th>Prediction</th>\n",
       "      <td>151.578408</td>\n",
       "      <td>119.268513</td>\n",
       "      <td>74.415647</td>\n",
       "      <td>96.470907</td>\n",
       "      <td>112.59338</td>\n",
       "      <td>130.279445</td>\n",
       "      <td>128.114019</td>\n",
       "      <td>100.692144</td>\n",
       "      <td>116.11839</td>\n",
       "      <td>127.369752</td>\n",
       "      <td>...</td>\n",
       "      <td>40.976045</td>\n",
       "      <td>33.031218</td>\n",
       "      <td>51.39622</td>\n",
       "      <td>64.318328</td>\n",
       "      <td>143.657061</td>\n",
       "      <td>159.663783</td>\n",
       "      <td>100.027659</td>\n",
       "      <td>103.182456</td>\n",
       "      <td>157.063688</td>\n",
       "      <td>35.62655</td>\n",
       "    </tr>\n",
       "  </tbody>\n",
       "</table>\n",
       "<p>2 rows × 100 columns</p>\n",
       "</div>"
      ],
      "text/plain": [
       "                    0           1          2          3          4   \\\n",
       "Actual      112.000000   98.000000  69.000000  82.000000   91.00000   \n",
       "Prediction  151.578408  119.268513  74.415647  96.470907  112.59338   \n",
       "\n",
       "                    5           6           7          8           9   ...  \\\n",
       "Actual       93.000000   91.000000   95.000000  111.00000   96.000000  ...   \n",
       "Prediction  130.279445  128.114019  100.692144  116.11839  127.369752  ...   \n",
       "\n",
       "                   90         91        92         93          94          95  \\\n",
       "Actual      38.000000  20.000000  85.00000  55.000000  128.000000  137.000000   \n",
       "Prediction  40.976045  33.031218  51.39622  64.318328  143.657061  159.663783   \n",
       "\n",
       "                    96          97          98        99  \n",
       "Actual       82.000000   59.000000  117.000000  20.00000  \n",
       "Prediction  100.027659  103.182456  157.063688  35.62655  \n",
       "\n",
       "[2 rows x 100 columns]"
      ]
     },
     "execution_count": 66,
     "metadata": {},
     "output_type": "execute_result"
    }
   ],
   "source": [
    "# view predictions vs actual\n",
    "\n",
    "rf_pred_dict = {\n",
    "                'Actual' : y_test,\n",
    "                'Prediction' : y_test_predict\n",
    "            }\n",
    "    \n",
    "rf_pred = pd.DataFrame.from_dict(rf_pred_dict).T\n",
    "rf_pred"
   ]
  },
  {
   "cell_type": "markdown",
   "metadata": {},
   "source": [
    "#### Compare all regression models tested"
   ]
  },
  {
   "cell_type": "code",
   "execution_count": 67,
   "metadata": {},
   "outputs": [
    {
     "data": {
      "text/html": [
       "<div>\n",
       "<style scoped>\n",
       "    .dataframe tbody tr th:only-of-type {\n",
       "        vertical-align: middle;\n",
       "    }\n",
       "\n",
       "    .dataframe tbody tr th {\n",
       "        vertical-align: top;\n",
       "    }\n",
       "\n",
       "    .dataframe thead th {\n",
       "        text-align: right;\n",
       "    }\n",
       "</style>\n",
       "<table border=\"1\" class=\"dataframe\">\n",
       "  <thead>\n",
       "    <tr style=\"text-align: right;\">\n",
       "      <th></th>\n",
       "      <th>Linear Regression</th>\n",
       "      <th>LASSO</th>\n",
       "      <th>Ridge Regression</th>\n",
       "      <th>Decision Tree Regression</th>\n",
       "      <th>Polynomial Regression</th>\n",
       "      <th>Random Forest Regression</th>\n",
       "    </tr>\n",
       "  </thead>\n",
       "  <tbody>\n",
       "    <tr>\n",
       "      <th>Root Mean Squared Error</th>\n",
       "      <td>32.041095</td>\n",
       "      <td>31.966099</td>\n",
       "      <td>31.965740</td>\n",
       "      <td>32.095349</td>\n",
       "      <td>31.350316</td>\n",
       "      <td>28.634253</td>\n",
       "    </tr>\n",
       "    <tr>\n",
       "      <th>Mean Absolute Error</th>\n",
       "      <td>25.591780</td>\n",
       "      <td>25.551808</td>\n",
       "      <td>25.544620</td>\n",
       "      <td>24.319068</td>\n",
       "      <td>23.762969</td>\n",
       "      <td>23.167130</td>\n",
       "    </tr>\n",
       "    <tr>\n",
       "      <th>R^2</th>\n",
       "      <td>0.405495</td>\n",
       "      <td>0.408275</td>\n",
       "      <td>0.408289</td>\n",
       "      <td>0.403480</td>\n",
       "      <td>0.430853</td>\n",
       "      <td>0.525198</td>\n",
       "    </tr>\n",
       "    <tr>\n",
       "      <th>Explained Variance</th>\n",
       "      <td>0.665297</td>\n",
       "      <td>0.668206</td>\n",
       "      <td>0.667607</td>\n",
       "      <td>0.632767</td>\n",
       "      <td>0.638423</td>\n",
       "      <td>0.767320</td>\n",
       "    </tr>\n",
       "  </tbody>\n",
       "</table>\n",
       "</div>"
      ],
      "text/plain": [
       "                         Linear Regression      LASSO  Ridge Regression  \\\n",
       "Root Mean Squared Error          32.041095  31.966099         31.965740   \n",
       "Mean Absolute Error              25.591780  25.551808         25.544620   \n",
       "R^2                               0.405495   0.408275          0.408289   \n",
       "Explained Variance                0.665297   0.668206          0.667607   \n",
       "\n",
       "                         Decision Tree Regression  Polynomial Regression  \\\n",
       "Root Mean Squared Error                 32.095349              31.350316   \n",
       "Mean Absolute Error                     24.319068              23.762969   \n",
       "R^2                                      0.403480               0.430853   \n",
       "Explained Variance                       0.632767               0.638423   \n",
       "\n",
       "                         Random Forest Regression  \n",
       "Root Mean Squared Error                 28.634253  \n",
       "Mean Absolute Error                     23.167130  \n",
       "R^2                                      0.525198  \n",
       "Explained Variance                       0.767320  "
      ]
     },
     "execution_count": 67,
     "metadata": {},
     "output_type": "execute_result"
    }
   ],
   "source": [
    "#regression metrics comparison before feature engineering\n",
    "\n",
    "reg_metrics_bfe = pd.concat([linreg_metrics, lasso_metrics, rdg_metrics, dtrg_metrics, polyreg_metrics, rf_metrics], axis=1)\n",
    "reg_metrics_bfe"
   ]
  },
  {
   "cell_type": "markdown",
   "metadata": {},
   "source": [
    "__Regression Summary:__  \n",
    "\n",
    "In accordance with our analysis in the data exploratory phase, non-linear regression models like Polynomial and Random Forest performed better than linear models like OLS, LASSO and Ridge regression. Random Forest clearly outperformed other models scoring RMSE of 28.63 cycles, i.e. the model predicts TTF within average error range of ±28.63 cycles.\n",
    "\n",
    "The hyper-parameter tuning for the Random Forest Regressor, LASSO, and Ridge models was done manually, but Grid Search or Random Search with Cross Validation could be used for better processing.\n",
    "\n"
   ]
  }
 ],
 "metadata": {
  "anaconda-cloud": {},
  "kernelspec": {
   "display_name": "Python 3",
   "language": "python",
   "name": "python3"
  },
  "language_info": {
   "codemirror_mode": {
    "name": "ipython",
    "version": 3
   },
   "file_extension": ".py",
   "mimetype": "text/x-python",
   "name": "python",
   "nbconvert_exporter": "python",
   "pygments_lexer": "ipython3",
   "version": "3.9.1"
  }
 },
 "nbformat": 4,
 "nbformat_minor": 2
}
